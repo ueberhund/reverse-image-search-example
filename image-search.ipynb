{
 "cells": [
  {
   "cell_type": "markdown",
   "id": "dac47156-ed61-40bf-b242-52d4db038259",
   "metadata": {},
   "source": [
    "# Church image search demo"
   ]
  },
  {
   "cell_type": "markdown",
   "id": "cc480cbe-7371-4add-80c5-0ef24efd9802",
   "metadata": {},
   "source": [
    "This is a demo that shows how to use multi-modal embeddings to perform a reverse image search"
   ]
  },
  {
   "cell_type": "code",
   "execution_count": null,
   "id": "6fbfa420-945a-41ab-b2ad-371b7ad34d22",
   "metadata": {},
   "outputs": [],
   "source": [
    "#OpenSearch endpoint\n",
    "#Host name should be WITHOUT https://\n",
    "\n",
    "region = 'us-east-1' \n",
    "aos_host = \"XXXXX.us-east-1.aoss.amazonaws.com\""
   ]
  },
  {
   "cell_type": "code",
   "execution_count": null,
   "id": "a495941b-24d2-4f5e-ae09-f6ff988ea324",
   "metadata": {},
   "outputs": [],
   "source": [
    "!pip install opensearch-py --quiet "
   ]
  },
  {
   "cell_type": "code",
   "execution_count": null,
   "id": "5b4f1662-50ae-487a-99d6-55696c6aa75b",
   "metadata": {},
   "outputs": [],
   "source": [
    "# Standard library imports\n",
    "import os\n",
    "import re\n",
    "import sys\n",
    "import json\n",
    "import base64\n",
    "from io import BytesIO\n",
    "\n",
    "# Other library imports\n",
    "import boto3\n",
    "import numpy as np\n",
    "import seaborn as sns\n",
    "from PIL import Image\n",
    "from scipy.spatial.distance import cdist"
   ]
  },
  {
   "cell_type": "code",
   "execution_count": null,
   "id": "7d2b9ece-f781-4def-b866-3425cb564df9",
   "metadata": {},
   "outputs": [],
   "source": [
    "# Init Bedrock Runtime client\n",
    "bedrock_client = boto3.client(\"bedrock-runtime\")"
   ]
  },
  {
   "cell_type": "code",
   "execution_count": null,
   "id": "7abb1c7d-1396-407e-91a7-e7fd1f5330e5",
   "metadata": {},
   "outputs": [],
   "source": [
    "def titan_multimodal_embedding(\n",
    "    image_path=None,  # maximum 2048 x 2048 pixels\n",
    "    description=None, # English only and max input tokens 128\n",
    "    dimension=1024,   # 1024 (default), 384, 256\n",
    "    model_id=\"amazon.titan-embed-image-v1\"\n",
    "):\n",
    "    payload_body = {}\n",
    "    embedding_config = {\n",
    "        \"embeddingConfig\": { \n",
    "             \"outputEmbeddingLength\": dimension\n",
    "         }\n",
    "    }\n",
    "\n",
    "    # You can specify either text or image or both\n",
    "    if image_path:\n",
    "        with open(image_path, \"rb\") as image_file:\n",
    "            input_image = base64.b64encode(image_file.read()).decode('utf8')\n",
    "        payload_body[\"inputImage\"] = input_image\n",
    "    if description:\n",
    "        payload_body[\"inputText\"] = description\n",
    "\n",
    "    assert payload_body, \"please provide either an image and/or a text description\"\n",
    "    #print(\"\\n\".join(payload_body.keys()))\n",
    "\n",
    "    response = bedrock_client.invoke_model(\n",
    "        body=json.dumps({**payload_body, **embedding_config}), \n",
    "        modelId=model_id,\n",
    "        accept=\"application/json\", \n",
    "        contentType=\"application/json\"\n",
    "    )\n",
    "\n",
    "    return json.loads(response.get(\"body\").read())"
   ]
  },
  {
   "cell_type": "markdown",
   "id": "ab3e893f-d2bb-46b3-88f6-ad9ed019de84",
   "metadata": {},
   "source": [
    "Connect to OpenSearch and deploy the index to the collection"
   ]
  },
  {
   "cell_type": "code",
   "execution_count": null,
   "id": "779c30db-325e-46d4-92a8-976ea6bb99e6",
   "metadata": {},
   "outputs": [],
   "source": [
    "from opensearchpy import OpenSearch, RequestsHttpConnection, AWSV4SignerAuth\n",
    "import boto3\n",
    "import json\n",
    "from botocore.config import Config\n",
    "\n",
    "credentials = boto3.Session().get_credentials()\n",
    "auth = AWSV4SignerAuth(credentials, region, service=\"aoss\")\n",
    "\n",
    "config = Config(\n",
    "    region_name = region\n",
    ")\n",
    "\n",
    "aos_client = OpenSearch(\n",
    "    hosts = [{'host': aos_host, 'port': 443}],\n",
    "    http_auth = auth,\n",
    "    use_ssl = True,\n",
    "    verify_certs = True,\n",
    "    connection_class = RequestsHttpConnection\n",
    ")"
   ]
  },
  {
   "cell_type": "code",
   "execution_count": null,
   "id": "ba32849d-1392-4ee1-b2d5-ad65709c745b",
   "metadata": {},
   "outputs": [],
   "source": [
    "image_index = {\n",
    "    \"aliases\": {},\n",
    "    \"settings\": {\n",
    "      \"index.knn\": True,\n",
    "      \"analysis\": {\n",
    "          \"analyzer\": {\n",
    "              \"default\": {\n",
    "                  \"type\": \"standard\",\n",
    "                  \"stopwords\": \"_english_\"\n",
    "              }\n",
    "          }\n",
    "      }\n",
    "    },\n",
    "    \"mappings\": {\n",
    "      \"properties\": {\n",
    "        \"title\": {\n",
    "            \"type\": \"text\",\n",
    "            \"store\": True\n",
    "        },\n",
    "        \"image_name\": {\n",
    "          \"type\": \"text\",\n",
    "          \"store\": True\n",
    "        },\n",
    "        \"image_description\": {\n",
    "          \"type\": \"text\",\n",
    "          \"store\": True\n",
    "        },\n",
    "        \"image_vector\": {\n",
    "          \"type\": \"knn_vector\",\n",
    "          \"dimension\": 1024,\n",
    "          \"method\": {\n",
    "            \"engine\": \"faiss\",\n",
    "            \"name\": \"hnsw\",\n",
    "            \"parameters\": {\n",
    "                \"ef_construction\": 128,\n",
    "                \"m\": 24\n",
    "            }\n",
    "          }\n",
    "        }\n",
    "      }\n",
    "    }\n",
    "  }"
   ]
  },
  {
   "cell_type": "code",
   "execution_count": null,
   "id": "ed2eb939-e548-4830-8694-155dcfdb0100",
   "metadata": {},
   "outputs": [],
   "source": [
    "aos_client.indices.create(index=\"image_index\",body=image_index,ignore=400)"
   ]
  },
  {
   "cell_type": "markdown",
   "id": "e896005f-ba1b-466d-a4b9-fa8d1c0ac14f",
   "metadata": {},
   "source": [
    "Wait about 30-60 seconds before proceeding to the next step. OpenSearch needs time to make the index available."
   ]
  },
  {
   "cell_type": "code",
   "execution_count": null,
   "id": "28605724-b038-4b2f-9e2c-f911ce190eb6",
   "metadata": {},
   "outputs": [],
   "source": [
    "#Load the ./images/images.json file \n",
    "images_file = open('./images/images.json').read()\n",
    "images = json.loads(images_file)\n",
    "for item in images[\"images\"]:\n",
    "    name = item[\"image_name\"]\n",
    "    description = item[\"description\"]\n",
    "\n",
    "    embedding = titan_multimodal_embedding(\"./images/kb_images/\" + name, description)\n",
    "    \n",
    "    #Load the data into OpenSearch\n",
    "    aos_client.index(index=\"image_index\", body={\"image_name\": name, \"image_description\": description, \"image_vector\": embedding['embedding']})    \n",
    "    print(name)"
   ]
  },
  {
   "cell_type": "markdown",
   "id": "1909bf56-6cf3-48ba-a447-9c685ea063fe",
   "metadata": {},
   "source": [
    "Now display the results"
   ]
  },
  {
   "cell_type": "code",
   "execution_count": null,
   "id": "6627dba1-fbc3-4513-8c08-933eb6c3adc0",
   "metadata": {},
   "outputs": [],
   "source": [
    "def get_thumbnail(path):\n",
    "    i = Image.open(path)\n",
    "    i.thumbnail((150, 150), Image.LANCZOS)\n",
    "    return i\n",
    "\n",
    "def image_base64(im):\n",
    "    if isinstance(im, str):\n",
    "        im = get_thumbnail(im)\n",
    "    with BytesIO() as buffer:\n",
    "        im.save(buffer, 'jpeg')\n",
    "        return base64.b64encode(buffer.getvalue()).decode()\n",
    "\n",
    "def image_formatter(im):\n",
    "    return f'<img src=\"data:image/jpeg;base64,{image_base64(im)}\">'"
   ]
  },
  {
   "cell_type": "markdown",
   "id": "413afaaf-3d60-41d8-b8c9-c4193c9ff5c5",
   "metadata": {},
   "source": [
    "Wait about 30-60 seconds before moving on so OpenSearch as a chance to index the content"
   ]
  },
  {
   "cell_type": "code",
   "execution_count": null,
   "id": "f3ac5055-a84e-499b-977f-c7187b203187",
   "metadata": {},
   "outputs": [],
   "source": [
    "import pandas as pd\n",
    "from IPython.display import HTML\n",
    "\n",
    "results = titan_multimodal_embedding(image_path=\"./images/bern_switzerland_temple_lds.jpeg\")\n",
    "#results = titan_multimodal_embedding(image_path=\"./images/young_woman_prayer_table.jpeg\")\n",
    "#results = titan_multimodal_embedding(image_path=\"./images/bloch_sample.jpg\")\n",
    "#results = titan_multimodal_embedding(image_path=\"./images/trek_west.jpeg\") \n",
    "#results = titan_multimodal_embedding(description=\"Dogs in wigs\")\n",
    "\n",
    "#results = titan_multimodal_embedding(image_path=\"./images/christ_ordaining_the_apostles.jpeg\")\n",
    "#results = titan_multimodal_embedding(description=\"Jesus cleansing the temple\")\n",
    "#results = titan_multimodal_embedding(image_path=\"./images/salt_lake_temple.jpeg\")\n",
    "\n",
    "query={\n",
    "    \"query\": {\n",
    "        \"knn\": {\n",
    "            \"image_vector\":{\n",
    "                \"vector\":results['embedding'],\n",
    "                \"min_score\": 0.53\n",
    "            }\n",
    "        }\n",
    "    }\n",
    "}\n",
    "\n",
    "res = aos_client.search(index=\"image_index\", \n",
    "                       body=query,\n",
    "                       stored_fields=[\"image_name\",\"image_description\"])\n",
    "print(\"Got %d Hits:\" % res['hits']['total']['value'])\n",
    "\n",
    "query_result=[]\n",
    "for hit in res['hits']['hits']:\n",
    "    row=[hit['_score'],hit['fields']['image_name'][0],hit['fields']['image_description'][0]]\n",
    "    query_result.append(row)\n",
    "\n",
    "df = pd.DataFrame(query_result, columns=['score','image_name','image_description'])\n",
    "df['image'] = df.image_name.map(lambda f: get_thumbnail(\"./images/kb_images/\" + f))\n",
    "HTML(df[['score', 'image_name', 'image_description', 'image']].to_html(formatters={'image': image_formatter}, escape=False))"
   ]
  }
 ],
 "metadata": {
  "kernelspec": {
   "display_name": "Python 3 (ipykernel)",
   "language": "python",
   "name": "python3"
  },
  "language_info": {
   "codemirror_mode": {
    "name": "ipython",
    "version": 3
   },
   "file_extension": ".py",
   "mimetype": "text/x-python",
   "name": "python",
   "nbconvert_exporter": "python",
   "pygments_lexer": "ipython3",
   "version": "3.12.9"
  }
 },
 "nbformat": 4,
 "nbformat_minor": 5
}
